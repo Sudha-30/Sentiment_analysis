{
  "cells": [
    {
      "cell_type": "code",
      "execution_count": null,
      "id": "f82482fe",
      "metadata": {
        "colab": {
          "base_uri": "https://localhost:8080/"
        },
        "id": "f82482fe",
        "outputId": "1942f471-1d07-4aa4-d2d4-ed445cf3f8dc"
      },
      "outputs": [
        {
          "output_type": "stream",
          "name": "stderr",
          "text": [
            "[nltk_data] Downloading package stopwords to /root/nltk_data...\n",
            "[nltk_data]   Unzipping corpora/stopwords.zip.\n",
            "2023-09-08 06:57:26.370 \n",
            "  \u001b[33m\u001b[1mWarning:\u001b[0m to view this Streamlit app on a browser, run it with the following\n",
            "  command:\n",
            "\n",
            "    streamlit run /usr/local/lib/python3.10/dist-packages/ipykernel_launcher.py [ARGUMENTS]\n",
            "2023-09-08 06:57:26.451 `label` got an empty value. This is discouraged for accessibility reasons and may be disallowed in the future by raising an exception. Please provide a non-empty label and hide it with label_visibility if needed.\n"
          ]
        }
      ],
      "source": [
        "import streamlit as st\n",
        "import pickle\n",
        "from sklearn.feature_extraction.text import TfidfVectorizer\n",
        "from PIL import Image\n",
        "import re\n",
        "import string\n",
        "import nltk\n",
        "import spacy\n",
        "\n",
        "# Load the pickled model and vectorizer\n",
        "with open(\"svm_model.pkl\", \"rb\") as file:\n",
        "    model = pickle.load(file)\n",
        "\n",
        "with open(\"tfidf_vectorizer.pkl\", \"rb\") as file:\n",
        "    tfidf_vectorizer = pickle.load(file)\n",
        "\n",
        "nltk.download('stopwords')\n",
        "stopwords = nltk.corpus.stopwords.words('english')\n",
        "\n",
        "def clean_text(text):\n",
        "    text = text.lower()\n",
        "    return text.strip()\n",
        "\n",
        "def remove_punctuation(text):\n",
        "    punctuation_free = \"\".join([i for i in text if i not in string.punctuation])\n",
        "    return punctuation_free\n",
        "\n",
        "def tokenization(text):\n",
        "    tokens = re.split(' ', text)\n",
        "    return tokens\n",
        "\n",
        "def remove_stopwords(text):\n",
        "    output = \" \".join(i for i in text if i not in stopwords)\n",
        "    return output\n",
        "\n",
        "def lemmatizer(text):\n",
        "    nlp = spacy.load('en_core_web_sm')\n",
        "    doc = nlp(text)\n",
        "    sent = [token.lemma_ for token in doc if not token.text in set(stopwords)]\n",
        "    return ' '.join(sent)\n",
        "\n",
        "st.title(\"Sentiment Analysis App\")\n",
        "st.markdown(\"By Maddirala sudharani\")\n",
        "image = Image.open(\"/content/main.png\")\n",
        "st.image(image, use_column_width=True)\n",
        "\n",
        "st.subheader(\"Enter your text here:\")\n",
        "user_input = st.text_area(\"\")\n",
        "\n",
        "if user_input:\n",
        "    user_input = clean_text(user_input)\n",
        "    user_input = remove_punctuation(user_input)\n",
        "    user_input = user_input.lower()\n",
        "    user_input = tokenization(user_input)\n",
        "    user_input = remove_stopwords(user_input)\n",
        "    user_input = lemmatizer(user_input)\n",
        "\n",
        "if st.button(\"Predict\"):\n",
        "    if user_input:\n",
        "        # Use tfidf_vectorizer to transform the input text\n",
        "        text_vectorized = tfidf_vectorizer.transform([user_input])\n",
        "        prediction = model.predict(text_vectorized)[0]\n",
        "        st.header(\"Prediction:\")\n",
        "        if prediction == -1:\n",
        "            st.subheader(\"The sentiment of the given text is: Negative\")\n",
        "        elif prediction == 0:\n",
        "            st.subheader(\"The sentiment of the given text is: Neutral\")\n",
        "        elif prediction == 1:\n",
        "            st.subheader(\"The sentiment of the given text is: Positive\")\n",
        "    else:\n",
        "        st.subheader(\"Please enter a text for prediction.\")\n"
      ]
    },
    {
      "cell_type": "code",
      "source": [
        "pip install -q streamlit"
      ],
      "metadata": {
        "colab": {
          "base_uri": "https://localhost:8080/"
        },
        "id": "3eULAoqldpFo",
        "outputId": "eec9a1b6-18de-4476-d397-d4162a416bc9"
      },
      "id": "3eULAoqldpFo",
      "execution_count": null,
      "outputs": [
        {
          "output_type": "stream",
          "name": "stdout",
          "text": [
            "\u001b[2K     \u001b[90m━━━━━━━━━━━━━━━━━━━━━━━━━━━━━━━━━━━━━━━━\u001b[0m \u001b[32m8.1/8.1 MB\u001b[0m \u001b[31m12.3 MB/s\u001b[0m eta \u001b[36m0:00:00\u001b[0m\n",
            "\u001b[2K     \u001b[90m━━━━━━━━━━━━━━━━━━━━━━━━━━━━━━━━━━━━━━\u001b[0m \u001b[32m164.8/164.8 kB\u001b[0m \u001b[31m15.1 MB/s\u001b[0m eta \u001b[36m0:00:00\u001b[0m\n",
            "\u001b[2K     \u001b[90m━━━━━━━━━━━━━━━━━━━━━━━━━━━━━━━━━━━━━━\u001b[0m \u001b[32m188.8/188.8 kB\u001b[0m \u001b[31m12.6 MB/s\u001b[0m eta \u001b[36m0:00:00\u001b[0m\n",
            "\u001b[2K     \u001b[90m━━━━━━━━━━━━━━━━━━━━━━━━━━━━━━━━━━━━━━━━\u001b[0m \u001b[32m4.7/4.7 MB\u001b[0m \u001b[31m31.2 MB/s\u001b[0m eta \u001b[36m0:00:00\u001b[0m\n",
            "\u001b[2K     \u001b[90m━━━━━━━━━━━━━━━━━━━━━━━━━━━━━━━━━━━━━━━━\u001b[0m \u001b[32m82.1/82.1 kB\u001b[0m \u001b[31m6.5 MB/s\u001b[0m eta \u001b[36m0:00:00\u001b[0m\n",
            "\u001b[2K     \u001b[90m━━━━━━━━━━━━━━━━━━━━━━━━━━━━━━━━━━━━━━━━\u001b[0m \u001b[32m62.7/62.7 kB\u001b[0m \u001b[31m5.1 MB/s\u001b[0m eta \u001b[36m0:00:00\u001b[0m\n",
            "\u001b[2K     \u001b[90m━━━━━━━━━━━━━━━━━━━━━━━━━━━━━━━━━━━━━━\u001b[0m \u001b[32m341.8/341.8 kB\u001b[0m \u001b[31m27.8 MB/s\u001b[0m eta \u001b[36m0:00:00\u001b[0m\n",
            "\u001b[?25h"
          ]
        }
      ]
    },
    {
      "cell_type": "code",
      "source": [],
      "metadata": {
        "id": "smO-1kBmlo57"
      },
      "id": "smO-1kBmlo57",
      "execution_count": null,
      "outputs": []
    }
  ],
  "metadata": {
    "kernelspec": {
      "display_name": "Python 3 (ipykernel)",
      "language": "python",
      "name": "python3"
    },
    "language_info": {
      "codemirror_mode": {
        "name": "ipython",
        "version": 3
      },
      "file_extension": ".py",
      "mimetype": "text/x-python",
      "name": "python",
      "nbconvert_exporter": "python",
      "pygments_lexer": "ipython3",
      "version": "3.8.4"
    },
    "colab": {
      "provenance": []
    }
  },
  "nbformat": 4,
  "nbformat_minor": 5
}